{
 "cells": [
  {
   "cell_type": "markdown",
   "metadata": {},
   "source": [
    "# 08 - Common problems & bad data situations\n",
    "\n",
    "<a rel=\"license\" href=\"http://creativecommons.org/licenses/by/4.0/\"><img alt=\"Creative Commons Licence\" style=\"border-width:0\" src=\"https://i.creativecommons.org/l/by/4.0/88x31.png\" title='This work is licensed under a Creative Commons Attribution 4.0 International License.' align=\"right\"/></a>\n",
    "\n",
    "In this notebook, we will revise common problems that might come up when dealing with real-world data.\n",
    "\n",
    "Maintainers: [@thempel](https://github.com/thempel), [@cwehmeyer](https://github.com/cwehmeyer), [@marscher](https://github.com/marscher), [@psolsson](https://github.com/psolsson)\n",
    "\n",
    "**Remember**:\n",
    "- to run the currently highlighted cell, hold <kbd>&#x21E7; Shift</kbd> and press <kbd>&#x23ce; Enter</kbd>;\n",
    "- to get help for a specific function, place the cursor within the function's brackets, hold <kbd>&#x21E7; Shift</kbd>, and press <kbd>&#x21E5; Tab</kbd>;\n",
    "- you can find the full documentation at [PyEMMA.org](http://www.pyemma.org).\n",
    "\n",
    "---\n",
    "\n",
    "Most problems in Markov modeling of MD data arise from bad sampling combined with a poor discretization.\n",
    "For estimating a Markov model, it is required to have a connected data set,\n",
    "i.e., we must have observed each process we want to describe in both directions.\n",
    "PyEMMA checks if this requirement is fulfilled but, however, in certain situations this might be less obvious."
   ]
  },
  {
   "cell_type": "code",
   "execution_count": null,
   "metadata": {},
   "outputs": [],
   "source": [
    "%matplotlib inline\n",
    "import matplotlib.pyplot as plt\n",
    "import numpy as np\n",
    "import mdshare\n",
    "import pyemma"
   ]
  },
  {
   "cell_type": "markdown",
   "metadata": {},
   "source": [
    "## Case 1: preprocessed, two-dimensional data (toy model)\n",
    "\n",
    "### well-sampled double-well potential\n",
    "\n",
    "Let's again have a look at the double-well potential.\n",
    "Since we are only interested in the problematic situations here,\n",
    "we will simplify our data a bit and work with a 1D projection."
   ]
  },
  {
   "cell_type": "code",
   "execution_count": null,
   "metadata": {},
   "outputs": [],
   "source": [
    "file = mdshare.fetch('hmm-doublewell-2d-100k.npz', working_directory='data')\n",
    "with np.load(file) as fh:\n",
    "    data = [fh['trajectory'][:, 1]]"
   ]
  },
  {
   "cell_type": "markdown",
   "metadata": {},
   "source": [
    "Since this particular example is simple enough, we can define a plotting function that combines histograms with trajectory data:"
   ]
  },
  {
   "cell_type": "code",
   "execution_count": null,
   "metadata": {},
   "outputs": [],
   "source": [
    "def plot_1D_histogram_trajectories(data, cluster=None, max_traj_length=200, ax=None):\n",
    "    if ax is None:\n",
    "        fig, ax = plt.subplots()\n",
    "    for n, _traj in enumerate(data):\n",
    "        ax.hist(_traj, bins=30, alpha=.33, density=True, color='C{}'.format(n));\n",
    "    ylims = ax.get_ylim()\n",
    "    xlims = ax.get_xlim()\n",
    "    for n, _traj in enumerate(data):\n",
    "        ax.plot(\n",
    "            _traj[:min(len(_traj), max_traj_length)], \n",
    "            np.linspace(*ylims, min(len(_traj), max_traj_length)), \n",
    "            alpha=0.6, color='C{}'.format(n), label='traj {}'.format(n))\n",
    "        if cluster is not None:\n",
    "            ax.plot(\n",
    "                cluster.clustercenters[cluster.dtrajs[n][:min(len(_traj), max_traj_length)], 0], \n",
    "                np.linspace(*ylims, min(len(_traj), max_traj_length)), \n",
    "                '.-', alpha=.6, label='dtraj {}'.format(n), linewidth=.3)\n",
    "    ax.annotate(\n",
    "        '', xy=(0.8500001 * xlims[1], 0.7 * ylims[1]), xytext=(0.85 * xlims[1], 0.3 * ylims[1]),\n",
    "        arrowprops=dict(fc='C0', ec='None', alpha=0.6, width=2))\n",
    "    ax.text(0.86 * xlims[1], 0.5 * ylims[1], '$x(time)$', ha='left', va='center', rotation=90)\n",
    "    ax.set_xlabel('TICA coordinate')\n",
    "    ax.set_ylabel('histogram counts & trajectory time')\n",
    "    ax.legend(loc=2)"
   ]
  },
  {
   "cell_type": "markdown",
   "metadata": {},
   "source": [
    "As a reference, we visualize the histogram of this well-sampled trajectory along with the first $200$ steps (left panel) and the MSM implied timescales (right panel):"
   ]
  },
  {
   "cell_type": "code",
   "execution_count": null,
   "metadata": {},
   "outputs": [],
   "source": [
    "fig, axes = plt.subplots(1, 2, figsize=(10, 4))\n",
    "\n",
    "cluster = pyemma.coordinates.cluster_regspace(data, dmin=0.05)\n",
    "\n",
    "plot_1D_histogram_trajectories(data, cluster=cluster, ax=axes[0])\n",
    "\n",
    "lags = [i + 1 for i in range(10)]\n",
    "its = pyemma.msm.its(cluster.dtrajs, lags=lags)\n",
    "pyemma.plots.plot_implied_timescales(its, marker='o', ax=axes[1], nits=4)\n",
    "fig.tight_layout()"
   ]
  },
  {
   "cell_type": "markdown",
   "metadata": {},
   "source": [
    "We see a nice, reversibly connected trajectory.\n",
    "That means we have sampled transitions between the basins in both directions that are correctly resolved by the discretization.\n",
    "As we see from the almost perfect overlay of discrete and continuous trajectory, nearly no discretization error is made. \n",
    "\n",
    "###  irreversibly connected double-well trajectories\n",
    "\n",
    "In MD simulations, we often face the problem that a process is sampled only in one direction.\n",
    "For example, consider protein-protein binding.\n",
    "The unbinding might take on the order of seconds to minutes and is thus difficult to sample.\n",
    "We will have a look what happens with the MSM in this case. \n",
    "\n",
    "Our example are two trajectories sampled from a double-well potential, each started in a different basin.\n",
    "They will be color coded."
   ]
  },
  {
   "cell_type": "code",
   "execution_count": null,
   "metadata": {},
   "outputs": [],
   "source": [
    "file = mdshare.fetch('doublewell_oneway.npy', working_directory='data')\n",
    "data = [trj for trj in np.load(file)]\n",
    "\n",
    "plot_1D_histogram_trajectories(data, max_traj_length=data[0].shape[0])"
   ]
  },
  {
   "cell_type": "markdown",
   "metadata": {},
   "source": [
    "We note that the orange trajectory does not leave its potential well while the blue trajectory does overcome the barrier exactly once.\n",
    "\n",
    "⚠️ Even though we have sampled one direction of the process,\n",
    "we do not sample the way out of one of the potential wells, thus effectively finding a sink state in our data. \n",
    "\n",
    "Let's have a look at the MSM.\n",
    "Since in higher dimensions, we often face the problem of poor discretization,\n",
    "we will simulate this situation by using too few cluster centers."
   ]
  },
  {
   "cell_type": "code",
   "execution_count": null,
   "metadata": {
    "scrolled": true
   },
   "outputs": [],
   "source": [
    "cluster_fine = pyemma.coordinates.cluster_regspace(data, dmin=0.1)\n",
    "cluster_poor = pyemma.coordinates.cluster_regspace(data, dmin=0.7)\n",
    "print(cluster_fine.n_clusters, cluster_poor.n_clusters)"
   ]
  },
  {
   "cell_type": "code",
   "execution_count": null,
   "metadata": {
    "scrolled": false
   },
   "outputs": [],
   "source": [
    "fig, axes = plt.subplots(2, 2, figsize=(10, 8), sharey='col')\n",
    "for cluster, ax in zip([cluster_poor, cluster_fine], axes):\n",
    "    plot_1D_histogram_trajectories(data, cluster=cluster, max_traj_length=data[0].shape[0], ax=ax[0])\n",
    "    its = pyemma.msm.its(cluster.dtrajs, lags=[1, 10, 100, 200, 300, 500, 800, 1000])\n",
    "    pyemma.plots.plot_implied_timescales(its, marker='o', ax=ax[1], nits=4)\n",
    "axes[0, 0].set_title('poor discretization')\n",
    "axes[1, 0].set_title('fine discretization')\n",
    "fig.tight_layout()"
   ]
  },
  {
   "cell_type": "markdown",
   "metadata": {},
   "source": [
    "#### What do we see? \n",
    "\n",
    "1) We observe implied timescales that even look converged in the fine discretization case. \n",
    "\n",
    "2) With poor clustering, the process cannot be resolved any more, i.e., the ITS does not convergence before the lag time exceeds the implied time scale. \n",
    "\n",
    "The obvious question is, what is the process that can be observed in the fine discretization case?\n",
    "PyEMMA checks for disconnectivity and thus should not find the process between the two wells.\n",
    "We follow this question by taking a look at the first eigenvector, which corresponds to that process."
   ]
  },
  {
   "cell_type": "code",
   "execution_count": null,
   "metadata": {},
   "outputs": [],
   "source": [
    "msm = pyemma.msm.estimate_markov_model(cluster_fine.dtrajs, 200)\n",
    "fig, ax = plt.subplots()\n",
    "ax.plot(\n",
    "    cluster_fine.clustercenters[msm.active_set, 0],\n",
    "    msm.eigenvectors_right()[:, 1],\n",
    "    'o:',\n",
    "    label='first eigvec')\n",
    "tx = ax.twinx()\n",
    "tx.hist(np.concatenate(data), bins=30, alpha=0.33)\n",
    "tx.set_yticklabels([])\n",
    "tx.set_yticks([])\n",
    "fig.legend()\n",
    "fig.tight_layout()"
   ]
  },
  {
   "cell_type": "markdown",
   "metadata": {},
   "source": [
    "We observe a process which is entirely taking place in the left potential well.\n",
    "How come?\n",
    "PyEMMA estimates MSMs only on the largest connected set because they are only defined on connected sets.\n",
    "In this particular example, the largest connected set is the microstates in the left potential well.\n",
    "That means that we find a transition between the right and the left side of this well.\n",
    "This is not wrong, it might just be non-informative or even irrelevant. \n",
    "\n",
    "The set of microstates which is used for the MSM estimation is stored in the MSM object `msm` and can be retrieved via `.active_set`."
   ]
  },
  {
   "cell_type": "code",
   "execution_count": null,
   "metadata": {},
   "outputs": [],
   "source": [
    "print('Active set: {}'.format(msm.active_set))\n",
    "print('Active state fraction: {:.2}'.format(msm.active_state_fraction))"
   ]
  },
  {
   "cell_type": "markdown",
   "metadata": {},
   "source": [
    "In this example we clearly see that some states are missing.\n",
    "\n",
    "### disconnected double-well trajectories with cross-overs\n",
    "\n",
    "This example covers the worst-case scenario.\n",
    "We have two trajectories that live in two separated wells and never transition to the other one.\n",
    "Due to a very bad clustering, we believe that the data is connected.\n",
    "This can happen if we cluster a large dataset in very high dimensions where it is especially difficult to debug. "
   ]
  },
  {
   "cell_type": "code",
   "execution_count": null,
   "metadata": {},
   "outputs": [],
   "source": [
    "file = mdshare.fetch('doublewell_disconnected.npy', working_directory='data')\n",
    "data = [trj for trj in np.load(file)]\n",
    "\n",
    "plot_1D_histogram_trajectories(data, max_traj_length=data[0].shape[0])"
   ]
  },
  {
   "cell_type": "markdown",
   "metadata": {},
   "source": [
    "We, again, compare a reasonable to a deliberately poor discretization:"
   ]
  },
  {
   "cell_type": "code",
   "execution_count": null,
   "metadata": {},
   "outputs": [],
   "source": [
    "cluster_fine = pyemma.coordinates.cluster_regspace(data, dmin=0.1)\n",
    "cluster_poor = pyemma.coordinates.cluster_regspace(data, dmin=0.7)\n",
    "print(cluster_fine.n_clusters, cluster_poor.n_clusters)"
   ]
  },
  {
   "cell_type": "code",
   "execution_count": null,
   "metadata": {},
   "outputs": [],
   "source": [
    "fig, axes = plt.subplots(2, 2, figsize=(10, 8), sharey='col')\n",
    "for cluster, ax in zip([cluster_poor, cluster_fine], axes):\n",
    "    plot_1D_histogram_trajectories(data, cluster=cluster, max_traj_length=data[0].shape[0], ax=ax[0])\n",
    "    its = pyemma.msm.its(cluster.dtrajs, lags=[1, 10, 100, 200, 300, 500, 800, 1000])\n",
    "    pyemma.plots.plot_implied_timescales(its, marker='o', ax=ax[1], nits=4)\n",
    "axes[0, 0].set_title('poor discretization')\n",
    "axes[1, 0].set_title('fine discretization')\n",
    "fig.tight_layout()"
   ]
  },
  {
   "cell_type": "markdown",
   "metadata": {},
   "source": [
    "#### What do we see?\n",
    "\n",
    "1) With the fine discretization, we observe some timescales that are converged. These are most probably processes within one of the wells, similar to the ones we saw before.\n",
    "\n",
    "2) The poor discretization induces a large error and describes artificial short visits to the other basin.\n",
    "\n",
    "3) The timescales in the poor discretization are much higher but not converged. \n",
    "\n",
    "The reason for the high timescales in 3) are in fact the artificial cross-over events created by the poor discretization.\n",
    "This process was not actually sampled and is an artifact of bad clustering.\n",
    "Let's look at it in more detail and see what happens if we estimate an MSM and even compute metastable states with PCCA++."
   ]
  },
  {
   "cell_type": "code",
   "execution_count": null,
   "metadata": {},
   "outputs": [],
   "source": [
    "msm = pyemma.msm.estimate_markov_model(cluster_poor.dtrajs, 200)\n",
    "\n",
    "nstates = 2\n",
    "msm.pcca(nstates)\n",
    "\n",
    "index_order = np.argsort(cluster_poor.clustercenters[:, 0])\n",
    "\n",
    "fig, axes = plt.subplots(1, 3, figsize=(12, 3))\n",
    "axes[0].plot(\n",
    "    cluster_poor.clustercenters[index_order, 0],\n",
    "    msm.eigenvectors_right()[index_order, 1],\n",
    "    'o:',\n",
    "    label='1st eigvec')\n",
    "axes[0].set_title('first eigenvector')\n",
    "for n, metastable_distribution in enumerate(msm.metastable_distributions):\n",
    "    axes[1].step(\n",
    "        cluster_poor.clustercenters[index_order, 0],\n",
    "        metastable_distribution[index_order],\n",
    "        ':', \n",
    "        label='md state {}'.format(n + 1),\n",
    "        where='mid')\n",
    "axes[1].set_title('metastable distributions (md)')\n",
    "axes[2].step(\n",
    "    cluster_poor.clustercenters[index_order, 0],\n",
    "    msm.pi[index_order],\n",
    "    'k--',\n",
    "    label='$\\pi$',\n",
    "    where='mid')\n",
    "axes[2].set_title('stationary distribution $\\pi$')\n",
    "for ax in axes:\n",
    "    tx = ax.twinx()\n",
    "    tx.hist(np.concatenate(data), bins=30, alpha=0.33)\n",
    "    tx.set_yticklabels([])\n",
    "    tx.set_yticks([])\n",
    "fig.legend(loc=7)\n",
    "fig.tight_layout()"
   ]
  },
  {
   "cell_type": "markdown",
   "metadata": {},
   "source": [
    "We observe that the first eigenvector represents a process that does not exist, i.e., is an artifact.\n",
    "Nevertheless, the PCCA++ algorithm can separate metastable states in a way we would expect.\n",
    "It finds the two disconnected states. However, the stationary distribution yields arbitrary results. \n",
    "\n",
    "#### How to detect disconnectivity?\n",
    "\n",
    "Generally, hidden Markov models (HMMs) are much more reliable because they come with an additional layer of hidden states.\n",
    "Cross-over events are thus unlikely to be counted as \"real\" transitions.\n",
    "Thus, it is a good idea to estimate an HMM.\n",
    "What happens if we try to estimate a two state HMM on the same, poorly discretized data? \n",
    "\n",
    "⚠️ It is important to note that the HMM estimation is initialized from the PCCA++ metastable states that we already analyzed."
   ]
  },
  {
   "cell_type": "code",
   "execution_count": null,
   "metadata": {
    "scrolled": true,
    "skip": true
   },
   "outputs": [],
   "source": [
    "hmm = pyemma.msm.estimate_hidden_markov_model(cluster_poor.dtrajs, nstates, msm.lag)"
   ]
  },
  {
   "cell_type": "markdown",
   "metadata": {},
   "source": [
    "We are getting an error message which already explains what is going wrong, i.e.,\n",
    "that the (macro-) states are not connected and thus no unique stationary distribution can be estimated.\n",
    "This is equivalent to having two eigenvalues of magnitude 1 or an implied timescale of infinity which is what we observe in the implied timescales plot."
   ]
  },
  {
   "cell_type": "code",
   "execution_count": null,
   "metadata": {
    "scrolled": false
   },
   "outputs": [],
   "source": [
    "its = pyemma.msm.timescales_hmsm(cluster_poor.dtrajs, nstates, lags=[1, 3, 4, 10, 100])\n",
    "pyemma.plots.plot_implied_timescales(its, marker='o', ylog=True);"
   ]
  },
  {
   "cell_type": "markdown",
   "metadata": {},
   "source": [
    "As we see, the requested timescales above $4$ steps could not be computed because the underlying HMM is disconnected,\n",
    "i.e., the corresponding timescales are infinity.\n",
    "The implied timescales that could be computed are most likely the same process that we observed from the fine clustering before, i.e., jumps within one basin.\n",
    "\n",
    "In general, it is a non-trivial problem to show that processes were not sampled reversibly.\n",
    "In our experience, HMMs are a good choice here, even though situations can occur where they might not detect the problem as easily as in this example. \n",
    "\n",
    "<a id=\"poorly_sampled_dw\"></a>\n",
    "### poorly sampled double-well trajectories\n",
    "\n",
    "Let's now assume that everything worked out fine but our sampling is somewhat poor.\n",
    "This is a realistic scenario when dealing with large systems that were well-sampled but still contain only few events of interest.\n",
    "We expect that our trajectories are just long enough to sample a certain process but are too short to capture them with a large lag time.\n",
    "To rule out discretization issues and to make the example clear, we use the full data set for discretization."
   ]
  },
  {
   "cell_type": "code",
   "execution_count": null,
   "metadata": {},
   "outputs": [],
   "source": [
    "file = mdshare.fetch('hmm-doublewell-2d-100k.npz', working_directory='data')\n",
    "with np.load(file) as fh:\n",
    "    data = [fh['trajectory'][:, 1]]\n",
    "cluster = pyemma.coordinates.cluster_regspace(data, dmin=0.05)"
   ]
  },
  {
   "cell_type": "markdown",
   "metadata": {},
   "source": [
    "We want to simulate a process that happens on a timescale that is on the order of magnitude of the trajectory length.\n",
    "To do so, we choose `n_trajs` chunks from the full data set that contain `traj_length` steps by splitting the original trajectory:"
   ]
  },
  {
   "cell_type": "code",
   "execution_count": null,
   "metadata": {},
   "outputs": [],
   "source": [
    "traj_length = 10\n",
    "n_trajs = 50\n",
    "\n",
    "data_short_trajs = list(data[0].reshape((data[0].shape[0] // traj_length, traj_length)))[:n_trajs]\n",
    "dtrajs_short = list(cluster.dtrajs[0].reshape((data[0].shape[0] // traj_length, traj_length)))[:n_trajs]"
   ]
  },
  {
   "cell_type": "markdown",
   "metadata": {},
   "source": [
    "Now, let's plot the trajectories (left panel) and estimate implied timescales (right panel) as above.\n",
    "Since we know the true ITS of this process, we visualize it as a dotted line."
   ]
  },
  {
   "cell_type": "code",
   "execution_count": null,
   "metadata": {},
   "outputs": [],
   "source": [
    "fig, axes = plt.subplots(1, 2, figsize=(10, 4))\n",
    "\n",
    "for n, _traj in enumerate(data_short_trajs):\n",
    "    axes[0].plot(_traj, np.linspace(0, 1, _traj.shape[0]) + n)\n",
    "\n",
    "lags = [i + 1 for i in range(9)]\n",
    "\n",
    "its = pyemma.msm.its(dtrajs_short, lags=lags)\n",
    "pyemma.plots.plot_implied_timescales(its, marker='o', ax=axes[1], nits=1)\n",
    "its_reference = pyemma.msm.its(cluster.dtrajs, lags=lags)\n",
    "pyemma.plots.plot_implied_timescales(its_reference, linestyle=':', ax=axes[1], nits=1)\n",
    "fig.tight_layout()"
   ]
  },
  {
   "cell_type": "markdown",
   "metadata": {},
   "source": [
    "We note that the slowest process is clearly contained in the data chunks and is reversibly sampled (left panel, short trajectory pieces color coded and stacked).\n",
    "Due to very short trajectories, we find that this process can only be captured at a very short MSM lag time (right panel).\n",
    "Above that interval, the slowest timescale diverges.\n",
    "Luckily, here we know that it is already converged at $\\tau = 1$, so we estimate an MSM:"
   ]
  },
  {
   "cell_type": "code",
   "execution_count": null,
   "metadata": {},
   "outputs": [],
   "source": [
    "msm_short_trajectories = pyemma.msm.estimate_markov_model(dtrajs_short, 1)"
   ]
  },
  {
   "cell_type": "markdown",
   "metadata": {},
   "source": [
    "Let's now have a look at the CK-test:"
   ]
  },
  {
   "cell_type": "code",
   "execution_count": null,
   "metadata": {},
   "outputs": [],
   "source": [
    "pyemma.plots.plot_cktest(msm_short_trajectories.cktest(2), marker='.');"
   ]
  },
  {
   "cell_type": "markdown",
   "metadata": {},
   "source": [
    "As already discussed, we cannot expect new estimates above a certain lag time to agree with the model prediction due to too short trajectories.\n",
    "Indeed, we find that new estimates and model predictions diverge at very high lag times.\n",
    "This does not necessarily mean that the model at $\\tau=1$ is wrong and in this particular case,\n",
    "we can even explain the divergence and find that it fits to the implied timescales divergence. \n",
    "\n",
    "This example mirrors another incarnation of the sampling problem: Working with large systems,\n",
    "we often have comparably short trajectories with few rare events.\n",
    "Thus, implied timescales convergence can often be achieved only in a certain interval and CK-tests will not converge up to arbitrary multiples of the lag time.\n",
    "It is the responsibility of the modeler to interpret these results and to ensure that a valid model can be obtained from the data.\n",
    "\n",
    "Please note that this is only a special case of a failed CK test.\n",
    "More general information about CK tests and what it means if it fails are explained in\n",
    "[Notebook 03 ➜ 📓](03-msm-estimation-and-validation.ipynb).\n",
    "\n",
    "## Case 2: low-dimensional molecular dynamics data (alanine dipeptide)\n",
    "\n",
    "In this example, we will show how an ill-conducted TICA analysis can yield results that look metastable in the 2D histogram,\n",
    "but in fact are not describing the slow dynamics.\n",
    "Please note that this was deliberately broken with a nonsensical TICA-lagtime of almost trajectory length, which is 250 ns.\n",
    "\n",
    "We start off with adding all atom coordinates.\n",
    "That is a non-optimal choice because it artificially blows up the dimensionality,\n",
    "but might still be a reasonable choice depending on the problem.\n",
    "A well-conducted TICA projection can extract the slow coordinates, as we will see at the end of this example."
   ]
  },
  {
   "cell_type": "code",
   "execution_count": null,
   "metadata": {},
   "outputs": [],
   "source": [
    "pdb = mdshare.fetch('alanine-dipeptide-nowater.pdb', working_directory='data')\n",
    "files = mdshare.fetch('alanine-dipeptide-*-250ns-nowater.xtc', working_directory='data')\n",
    "feat = pyemma.coordinates.featurizer(pdb)\n",
    "\n",
    "feat.add_all()\n",
    "data = pyemma.coordinates.load(files, features=feat)"
   ]
  },
  {
   "cell_type": "markdown",
   "metadata": {},
   "source": [
    "TICA analysis is conducted with an extremely high lag time of almost $249.9$ ns. We map down to two dimensions."
   ]
  },
  {
   "cell_type": "code",
   "execution_count": null,
   "metadata": {},
   "outputs": [],
   "source": [
    "tica = pyemma.coordinates.tica(data, lag=data[0].shape[0] - 100, dim=2)\n",
    "tica_output = tica.get_output()\n",
    "\n",
    "pyemma.plots.plot_free_energy(*np.concatenate(tica_output).T, legacy=False);"
   ]
  },
  {
   "cell_type": "markdown",
   "metadata": {},
   "source": [
    "In the free energy plot, we recognize two defined basins that are nicely separated by the first TICA component. We thus continue with a discretization of this space and estimate MSM implied timescales."
   ]
  },
  {
   "cell_type": "code",
   "execution_count": null,
   "metadata": {},
   "outputs": [],
   "source": [
    "cluster = pyemma.coordinates.cluster_kmeans(tica_output, k=200, max_iter=30, stride=100)"
   ]
  },
  {
   "cell_type": "code",
   "execution_count": null,
   "metadata": {},
   "outputs": [],
   "source": [
    "its = pyemma.msm.its(cluster.dtrajs, lags=[1, 5, 10, 20, 30, 50])\n",
    "pyemma.plots.plot_implied_timescales(its, marker='o', units='ps', nits=3);"
   ]
  },
  {
   "cell_type": "markdown",
   "metadata": {},
   "source": [
    "Indeed, we observe a converged implied timescale.\n",
    "In this example we already know that it is way lower than expected,\n",
    "but in the general case we are unaware of the real dynamics of the system. \n",
    "\n",
    "Thus, we estimate an MSM at lag time $20 $ ps.\n",
    "Coarse graining and validation will be done with $2$ metastable states since we found $2$ basins in the free energy landscape and have one slow process in the ITS plot."
   ]
  },
  {
   "cell_type": "code",
   "execution_count": null,
   "metadata": {},
   "outputs": [],
   "source": [
    "msm = pyemma.msm.estimate_markov_model(cluster.dtrajs, 20)\n",
    "\n",
    "nstates = 2\n",
    "msm.pcca(nstates);"
   ]
  },
  {
   "cell_type": "code",
   "execution_count": null,
   "metadata": {},
   "outputs": [],
   "source": [
    "stride = 10\n",
    "metastable_trajs_strided = [msm.metastable_assignments[dtrj[::stride]] for dtrj in cluster.dtrajs]\n",
    "tica_output_strided = [i[::stride] for i in tica_output]\n",
    "_, _, misc = pyemma.plots.plot_state_map(*np.concatenate(tica_output_strided).T, \n",
    "                                         np.concatenate(metastable_trajs_strided));\n",
    "misc['cbar'].set_ticklabels(range(1, nstates + 1))  # set state numbers 1 ... nstates"
   ]
  },
  {
   "cell_type": "markdown",
   "metadata": {},
   "source": [
    "As we see, the PCCA++ algorithm is perfectly able to separate the two basins.\n",
    "Let's go on with a Chapman-Kolmogorow validation."
   ]
  },
  {
   "cell_type": "code",
   "execution_count": null,
   "metadata": {},
   "outputs": [],
   "source": [
    "pyemma.plots.plot_cktest(msm.cktest(nstates), units='ps');"
   ]
  },
  {
   "cell_type": "markdown",
   "metadata": {},
   "source": [
    "Congratulations, we have estimated a well-validated MSM.\n",
    "The only question remaining is: What does it actually describe?\n",
    "For this, we usually extract representative structures as described in [Notebook 00 ➜ 📓](00-pentapeptide-showcase.ipynb).\n",
    "We will not do this here but look at the metastable trajectories instead.\n",
    "\n",
    "#### What could be wrong about it?\n",
    "\n",
    "Let's have a look at the trajectories as assigned to PCCA++ metastable states.\n",
    "We have already computed them before but not looked at their time dependence."
   ]
  },
  {
   "cell_type": "code",
   "execution_count": null,
   "metadata": {},
   "outputs": [],
   "source": [
    "fig, ax = plt.subplots(1, 1, figsize=(15, 6), sharey=True, sharex=True)\n",
    "ax_yticks_labels = []\n",
    "for n, pcca_traj in enumerate(metastable_trajs_strided):\n",
    "    ax.plot(range(len(pcca_traj)), msm.n_metastable * n + pcca_traj, color='k', linewidth=0.3)\n",
    "    ax.scatter(range(len(pcca_traj)), msm.n_metastable * n + pcca_traj, c=pcca_traj, s=0.1)\n",
    "    ax_yticks_labels.append(((msm.n_metastable * (2 * n + 1) - 1) / 2, n + 1))\n",
    "ax.set_yticks([l[0] for l in ax_yticks_labels])\n",
    "ax.set_yticklabels([str(l[1]) for l in ax_yticks_labels])\n",
    "ax.set_ylabel('Trajectory #')\n",
    "ax.set_xlabel('time / {} ps'.format(stride))\n",
    "fig.tight_layout()"
   ]
  },
  {
   "cell_type": "markdown",
   "metadata": {},
   "source": [
    "#### What do we see?\n",
    "The above figure shows the metastable states visited by the trajectory over time.\n",
    "Each metastable state is color-coded, the trajectory is shown by the black line.\n",
    "This is clearly not a metastable trajectory as we would have expected. \n",
    "\n",
    "What did we do wrong?\n",
    "Let's have a look at the TICA trajectories, not only the histogram!"
   ]
  },
  {
   "cell_type": "code",
   "execution_count": null,
   "metadata": {},
   "outputs": [],
   "source": [
    "fig, axes = plt.subplots(2, 3, figsize=(12, 6), sharex=True, sharey='row')\n",
    "\n",
    "for n, trj in enumerate(tica_output):\n",
    "    for dim, traj1d in enumerate(trj.T):\n",
    "        axes[dim, n].plot(traj1d[::stride], linewidth=.5)\n",
    "for ax in axes[1]:\n",
    "    ax.set_xlabel('time / {} ps'.format(stride))\n",
    "for dim, ax in enumerate(axes[:, 0]):\n",
    "    ax.set_ylabel('IC {}'.format(dim + 1))\n",
    "for n, ax in enumerate(axes[0]):\n",
    "    ax.set_title('Trajectory # {}'.format(n + 1))\n",
    "fig.tight_layout()"
   ]
  },
  {
   "cell_type": "markdown",
   "metadata": {},
   "source": [
    "This is essentially noise, so it is not surprising that the metastable trajectories do not show significant metastability.\n",
    "The MSM nevertheless found a process in the above TICA components which, however,\n",
    "does not seem to describe any of the slow dynamics.\n",
    "Thus, the model is not wrong, it is just not informative. \n",
    "\n",
    "As we see in this example, it can be instructive to keep the trajectories in mind and not to rely on the histograms alone.\n",
    "\n",
    "⚠️ Histograms are no proof of metastability,\n",
    "they can only give us a hint towards defined states in a multi-dimensional state space which can be metastable.\n",
    "\n",
    "#### How to fix it?\n",
    "\n",
    "In this particular example, we already know the issue:\n",
    "the TICA lag time was deliberately chosen way too high.\n",
    "That's easy to fix.\n",
    "\n",
    "Let's now have a look at how the metastable trajectories should look for a decent model such as the one estimated in [Notebook 05 ➜ 📓](05-pcca-tpt.ipynb).\n",
    "We will take the same input data,\n",
    "do a TICA transform with a realistic lag time of $10$ ps,\n",
    "and coarse grain into $2$ metastable states in order to compare with the example above."
   ]
  },
  {
   "cell_type": "code",
   "execution_count": null,
   "metadata": {},
   "outputs": [],
   "source": [
    "tica = pyemma.coordinates.tica(data, lag=10, dim=2)\n",
    "tica_output = tica.get_output()\n",
    "cluster = pyemma.coordinates.cluster_kmeans(tica_output, k=200, max_iter=30, stride=100)\n",
    "\n",
    "pyemma.plots.plot_free_energy(*np.concatenate(tica_output).T, legacy=False);"
   ]
  },
  {
   "cell_type": "markdown",
   "metadata": {},
   "source": [
    "As wee see, TICA yields a very nice state separation.\n",
    "We will see that these states are in fact metastable."
   ]
  },
  {
   "cell_type": "code",
   "execution_count": null,
   "metadata": {},
   "outputs": [],
   "source": [
    "msm = pyemma.msm.estimate_markov_model(cluster.dtrajs, lag=20)\n",
    "msm.pcca(nstates);"
   ]
  },
  {
   "cell_type": "code",
   "execution_count": null,
   "metadata": {},
   "outputs": [],
   "source": [
    "metastable_trajs_strided = [msm.metastable_assignments[dtrj[::stride]] for dtrj in cluster.dtrajs]"
   ]
  },
  {
   "cell_type": "code",
   "execution_count": null,
   "metadata": {},
   "outputs": [],
   "source": [
    "stride = 10\n",
    "tica_output_strided = [i[::stride] for i in tica_output]\n",
    "_, _, misc = pyemma.plots.plot_state_map(*np.concatenate(tica_output_strided).T, \n",
    "                                         np.concatenate(metastable_trajs_strided));\n",
    "misc['cbar'].set_ticklabels(range(1, nstates + 1))  # set state numbers 1 ... nstates"
   ]
  },
  {
   "cell_type": "markdown",
   "metadata": {},
   "source": [
    "We note that PCCA++ separates the two basins of the free energy plot.\n",
    "Let's have a look at the metastable trajectories:"
   ]
  },
  {
   "cell_type": "code",
   "execution_count": null,
   "metadata": {},
   "outputs": [],
   "source": [
    "fig, ax = plt.subplots(1, 1, figsize=(12, 6), sharey=True, sharex=True)\n",
    "ax_yticks_labels = []\n",
    "for n, pcca_traj in enumerate(metastable_trajs_strided):\n",
    "    ax.plot(range(len(pcca_traj)), msm.n_metastable * n + pcca_traj, color='k', linewidth=0.3)\n",
    "    ax.scatter(range(len(pcca_traj)), msm.n_metastable * n + pcca_traj, c=pcca_traj, s=0.1)\n",
    "    ax_yticks_labels.append(((msm.n_metastable * (2 * n + 1) - 1) / 2, n + 1))\n",
    "ax.set_yticks([l[0] for l in ax_yticks_labels])\n",
    "ax.set_yticklabels([str(l[1]) for l in ax_yticks_labels])\n",
    "ax.set_ylabel('Trajectory #')\n",
    "ax.set_xlabel('time / {} ps'.format(stride))\n",
    "fig.tight_layout()"
   ]
  },
  {
   "cell_type": "markdown",
   "metadata": {},
   "source": [
    "These trajectories show the expected behavior of a metastable trajectory,\n",
    "i.e., it does not quickly jump back and forth between the states.\n",
    "\n",
    "## Wrapping up\n",
    "\n",
    "In this notebook, we have learned about some problems that can arise when estimating MSMs with \"real world\" data at simple examples.\n",
    "In detail, we have seen\n",
    "- irreversibly connected dynamics and what it means for MSM estimation,\n",
    "- fully disconnected trajectories and how to identify them,\n",
    "- connected but poorly sampled trajectories and how convergence looks in this case,\n",
    "- ill-conducted TICA analysis and what it yields.\n",
    "\n",
    "The most important lesson from this tutorial is that histograms, which are usually calculated in a projected space, are not a sufficient means of identifying metastability or connectedness.\n",
    "It is crucial to remember that the underlying trajectories play the role of ground truth for the model. \n",
    "Ultimately, histograms only help us to understand this ground truth but cannot provide a complete picture."
   ]
  }
 ],
 "metadata": {
  "kernelspec": {
   "display_name": "Python 3",
   "language": "python",
   "name": "python3"
  },
  "language_info": {
   "codemirror_mode": {
    "name": "ipython",
    "version": 3
   },
   "file_extension": ".py",
   "mimetype": "text/x-python",
   "name": "python",
   "nbconvert_exporter": "python",
   "pygments_lexer": "ipython3",
   "version": "3.6.6"
  },
  "toc": {
   "base_numbering": 1,
   "nav_menu": {},
   "number_sections": false,
   "sideBar": true,
   "skip_h1_title": true,
   "title_cell": "Table of Contents",
   "title_sidebar": "Contents",
   "toc_cell": false,
   "toc_position": {},
   "toc_section_display": true,
   "toc_window_display": true
  }
 },
 "nbformat": 4,
 "nbformat_minor": 2
}
